{
 "cells": [
  {
   "cell_type": "markdown",
   "metadata": {},
   "source": [
    "# Newton-Raphson Iterator\n",
    "## Andrew Lincowski & Spencer Wallace\n",
    "## For integration of Kepler's Equation"
   ]
  },
  {
   "cell_type": "code",
   "execution_count": 31,
   "metadata": {
    "collapsed": false
   },
   "outputs": [
    {
     "data": {
      "text/plain": [
       "newt_kepler (generic function with 1 method)"
      ]
     },
     "execution_count": 31,
     "metadata": {},
     "output_type": "execute_result"
    }
   ],
   "source": [
    "# Kepler's equation\n",
    "# ecc = eccentricity\n",
    "# E = eccentric anomaly\n",
    "# M = mean motion\n",
    "function g(ecc,E,M)\n",
    "    retval = E-ecc*sin(E) - M\n",
    "    retval\n",
    "end\n",
    "\n",
    "# Derivative of Kepler's equation\n",
    "function dg_dE(ecc,E)\n",
    "    retval = 1-ecc*cos(E)\n",
    "    retval\n",
    "end\n",
    "\n",
    "# Newton-raphson function\n",
    "function newt_kepler(ecc,E,M,eps)\n",
    "    h = -g(ecc,E,M)/dg_dE(ecc,E)\n",
    "    E += h\n",
    "    if(abs(h) > eps)\n",
    "        newt_kepler(ecc,E,M,eps)\n",
    "    else\n",
    "        E\n",
    "    end\n",
    "end"
   ]
  },
  {
   "cell_type": "code",
   "execution_count": 16,
   "metadata": {
    "collapsed": false
   },
   "outputs": [
    {
     "data": {
      "text/plain": [
       "1.7191487195364321"
      ]
     },
     "execution_count": 16,
     "metadata": {},
     "output_type": "execute_result"
    }
   ],
   "source": [
    "#Test interator\n",
    "M = pi/2.\n",
    "ecc = 0.15\n",
    "E = M + 0.85*ecc*sign(sin(M))\n",
    "eps = 0.001\n",
    "newt_kepler(ecc,E,M,eps)"
   ]
  },
  {
   "cell_type": "code",
   "execution_count": 17,
   "metadata": {
    "collapsed": false
   },
   "outputs": [
    {
     "data": {
      "text/plain": [
       "1.719148719463455"
      ]
     },
     "execution_count": 17,
     "metadata": {},
     "output_type": "execute_result"
    }
   ],
   "source": [
    "eps = 1e-14\n",
    "newt_kepler(ecc,E,M,eps)"
   ]
  },
  {
   "cell_type": "code",
   "execution_count": 33,
   "metadata": {
    "collapsed": false
   },
   "outputs": [
    {
     "name": "stdout",
     "output_type": "stream",
     "text": [
      "  0.010700 seconds (101.30 k allocations: 2.944 MB)\n"
     ]
    }
   ],
   "source": [
    "#Construct parameters\n",
    "ecc = linspace(0,0.999,100)\n",
    "M = linspace(0,2*pi,100)\n",
    "keplerdata = Array(Real,100,100)\n",
    "keplererr = Array(Real,100,100)\n",
    "test1 = Array(Real,100,100)\n",
    "\n",
    "#Calculate eccentric anomaly E\n",
    "@time for (i,valecc) in enumerate(ecc)\n",
    "    for (j,valM) in enumerate(M)\n",
    "        keplerdata[i,j] = newt_kepler(valecc,E,valM,eps)\n",
    "#        keplererr[i,j] = keplerdata[i,j]-valecc*sin(keplerdata[i,j])-valM\n",
    "#        test1[i,j] = keplerdata[i,j] - valM\n",
    "    end\n",
    "end"
   ]
  },
  {
   "cell_type": "code",
   "execution_count": 19,
   "metadata": {
    "collapsed": false
   },
   "outputs": [
    {
     "ename": "LoadError",
     "evalue": "LoadError: UndefRefError: access to undefined reference\nwhile loading In[19], in expression starting on line 3",
     "output_type": "error",
     "traceback": [
      "LoadError: UndefRefError: access to undefined reference\nwhile loading In[19], in expression starting on line 3",
      "",
      " in array2py at /home/linc/.julia/v0.4/PyCall/src/conversions.jl:272",
      " in array2py at /home/linc/.julia/v0.4/PyCall/src/conversions.jl:283",
      " in call at /home/linc/.julia/v0.4/PyCall/src/conversions.jl:294",
      " in map at tuple.jl:62",
      " in pycall at /home/linc/.julia/v0.4/PyCall/src/PyCall.jl:344",
      " in pcolor at /home/linc/.julia/v0.4/PyPlot/src/PyPlot.jl:460",
      " in pcolor at /home/linc/.julia/v0.4/PyPlot/src/PyPlot.jl:621"
     ]
    }
   ],
   "source": [
    "using PyPlot\n",
    "\n",
    "plot1 = pcolor(ecc,M,keplerdata, cmap=ColorMap(\"viridis\"))\n",
    "ax = gca()\n",
    "title(\"M (rad) vs e\")\n",
    "colorbar(label=\"E (rad)\")\n",
    "ylim([0,2*pi])"
   ]
  },
  {
   "cell_type": "code",
   "execution_count": 20,
   "metadata": {
    "collapsed": false
   },
   "outputs": [
    {
     "ename": "LoadError",
     "evalue": "LoadError: UndefRefError: access to undefined reference\nwhile loading In[20], in expression starting on line 3",
     "output_type": "error",
     "traceback": [
      "LoadError: UndefRefError: access to undefined reference\nwhile loading In[20], in expression starting on line 3",
      "",
      " in array2py at /home/linc/.julia/v0.4/PyCall/src/conversions.jl:272",
      " in array2py at /home/linc/.julia/v0.4/PyCall/src/conversions.jl:283",
      " in call at /home/linc/.julia/v0.4/PyCall/src/conversions.jl:294",
      " in map at tuple.jl:62",
      " in pycall at /home/linc/.julia/v0.4/PyCall/src/PyCall.jl:344",
      " in pcolor at /home/linc/.julia/v0.4/PyPlot/src/PyPlot.jl:460",
      " in pcolor at /home/linc/.julia/v0.4/PyPlot/src/PyPlot.jl:621"
     ]
    }
   ],
   "source": [
    "#A different way to plot this...\n",
    "using PyPlot\n",
    "plot1 = pcolor(ecc,M,test1,cmap=ColorMap(\"seismic\"))\n",
    "ax = gca()\n",
    "title(\"M (rad) vs e\")\n",
    "colorbar(label=\"E - M\")\n",
    "ylim([0,2*pi])"
   ]
  },
  {
   "cell_type": "code",
   "execution_count": 21,
   "metadata": {
    "collapsed": false
   },
   "outputs": [
    {
     "ename": "LoadError",
     "evalue": "LoadError: UndefRefError: access to undefined reference\nwhile loading In[21], in expression starting on line 1",
     "output_type": "error",
     "traceback": [
      "LoadError: UndefRefError: access to undefined reference\nwhile loading In[21], in expression starting on line 1",
      "",
      " in array2py at /home/linc/.julia/v0.4/PyCall/src/conversions.jl:272",
      " in array2py at /home/linc/.julia/v0.4/PyCall/src/conversions.jl:283",
      " in call at /home/linc/.julia/v0.4/PyCall/src/conversions.jl:294",
      " in map at tuple.jl:62",
      " in pycall at /home/linc/.julia/v0.4/PyCall/src/PyCall.jl:344",
      " in pcolor at /home/linc/.julia/v0.4/PyPlot/src/PyPlot.jl:460",
      " in pcolor at /home/linc/.julia/v0.4/PyPlot/src/PyPlot.jl:621"
     ]
    }
   ],
   "source": [
    "plot1 = pcolor(ecc,M,keplererr,cmap=ColorMap(\"seismic\"))\n",
    "ax = gca()\n",
    "title(\"M (rad) vs e\")\n",
    "colorbar(label=L\"Error: $E - e \\cdot \\sin E - M$\")\n",
    "ylim([0,2*pi])"
   ]
  },
  {
   "cell_type": "code",
   "execution_count": null,
   "metadata": {
    "collapsed": true
   },
   "outputs": [],
   "source": []
  }
 ],
 "metadata": {
  "kernelspec": {
   "display_name": "Julia 0.4.2",
   "language": "julia",
   "name": "julia-0.4"
  },
  "language_info": {
   "file_extension": ".jl",
   "mimetype": "application/julia",
   "name": "julia",
   "version": "0.4.2"
  }
 },
 "nbformat": 4,
 "nbformat_minor": 0
}
